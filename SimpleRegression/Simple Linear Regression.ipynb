{
 "cells": [
  {
   "cell_type": "code",
   "execution_count": 1,
   "metadata": {},
   "outputs": [],
   "source": [
    "# Importing the libraries\n",
    "\n",
    "import numpy as np\n",
    "import pandas as pd\n",
    "import matplotlib.pyplot as plt"
   ]
  },
  {
   "cell_type": "code",
   "execution_count": 2,
   "metadata": {},
   "outputs": [],
   "source": [
    "# Loading the dataset\n",
    "\n",
    "df = pd.read_csv('Salary_Data.csv')"
   ]
  },
  {
   "cell_type": "code",
   "execution_count": 3,
   "metadata": {},
   "outputs": [
    {
     "name": "stdout",
     "output_type": "stream",
     "text": [
      "----- Few rows of data -----\n",
      "    YearsExperience    Salary\n",
      "13              4.1   57081.0\n",
      "24              8.7  109431.0\n",
      "15              4.9   67938.0\n",
      "8               3.2   64445.0\n",
      "23              8.2  113812.0\n",
      "5               2.9   56642.0\n",
      "18              5.9   81363.0\n",
      "10              3.9   63218.0\n",
      "25              9.0  105582.0\n",
      "26              9.5  116969.0\n",
      "\n",
      "\n",
      "\n",
      "----- Features in the dataset ----\n",
      "Index(['YearsExperience', 'Salary'], dtype='object')\n",
      "\n",
      "\n",
      "\n",
      "---- Shape of the dataset -----\n",
      "(30, 2)\n"
     ]
    }
   ],
   "source": [
    "# Viewing few rows of data\n",
    "\n",
    "print('----- Few rows of data -----')\n",
    "print(df.sample(10))\n",
    "\n",
    "print('\\n\\n')\n",
    "print('----- Features in the dataset ----')\n",
    "print(df.columns)\n",
    "\n",
    "print('\\n\\n')\n",
    "print('---- Shape of the dataset -----')\n",
    "print(df.shape)"
   ]
  },
  {
   "cell_type": "code",
   "execution_count": 4,
   "metadata": {},
   "outputs": [
    {
     "data": {
      "text/plain": [
       "YearsExperience    0\n",
       "Salary             0\n",
       "dtype: int64"
      ]
     },
     "execution_count": 4,
     "metadata": {},
     "output_type": "execute_result"
    }
   ],
   "source": [
    "# Check for null values\n",
    "\n",
    "df.isnull().sum()"
   ]
  },
  {
   "cell_type": "code",
   "execution_count": 5,
   "metadata": {},
   "outputs": [],
   "source": [
    "# Converting dataset to dependant and independant vectors\n",
    "\n",
    "# YearsExperience\n",
    "X = df.iloc[:, :-1].values\n",
    "\n",
    "#Salary\n",
    "y = df.iloc[:, 1].values"
   ]
  },
  {
   "cell_type": "code",
   "execution_count": 6,
   "metadata": {},
   "outputs": [],
   "source": [
    "# Splitting the dataset into testing and training set's\n",
    "\n",
    "from sklearn.model_selection import train_test_split\n",
    "\n",
    "X_train, X_test, y_train, y_test = train_test_split(X, y, test_size=0.2, random_state=42)"
   ]
  },
  {
   "cell_type": "code",
   "execution_count": 7,
   "metadata": {},
   "outputs": [
    {
     "name": "stdout",
     "output_type": "stream",
     "text": [
      "(24, 1)\n",
      "(6, 1)\n",
      "(24,)\n",
      "(6,)\n"
     ]
    }
   ],
   "source": [
    "# Dimensions of datset after splitting into testing and training set's\n",
    "\n",
    "print(X_train.shape)\n",
    "print(X_test.shape)\n",
    "print(y_train.shape)\n",
    "print(y_test.shape)"
   ]
  },
  {
   "cell_type": "code",
   "execution_count": 8,
   "metadata": {},
   "outputs": [
    {
     "data": {
      "text/plain": [
       "LinearRegression(copy_X=True, fit_intercept=True, n_jobs=None,\n",
       "         normalize=False)"
      ]
     },
     "execution_count": 8,
     "metadata": {},
     "output_type": "execute_result"
    }
   ],
   "source": [
    "# Fitting Simple Linear Regression model to the training data\n",
    "\n",
    "from sklearn.linear_model import LinearRegression\n",
    "\n",
    "# Instantiating LinearRegression Model\n",
    "\n",
    "linear_regression = LinearRegression()\n",
    "\n",
    "# Fitting to the training data\n",
    "\n",
    "linear_regression.fit(X_train, y_train)"
   ]
  },
  {
   "cell_type": "code",
   "execution_count": 9,
   "metadata": {},
   "outputs": [],
   "source": [
    "# Predicting dependant variable using independant variable\n",
    "\n",
    "predictions = linear_regression.predict(X_test)"
   ]
  },
  {
   "cell_type": "code",
   "execution_count": 52,
   "metadata": {},
   "outputs": [
    {
     "name": "stdout",
     "output_type": "stream",
     "text": [
      "Predicted             -    Original\n",
      "115573.6228835191          112635.0       \n",
      "71679.93878158767          67938.0        \n",
      "102498.90847017782         113812.0       \n",
      "75415.57147111374          83088.0        \n",
      "55803.499851101835         64445.0        \n",
      "60473.04071300943          57189.0        \n",
      "122110.98009018974         122391.0       \n",
      "107168.44933208541         109431.0       \n",
      "63274.76523015399          56957.0        \n"
     ]
    }
   ],
   "source": [
    "# Lets view predicted and original salaries \n",
    "\n",
    "print('Predicted             -    Original')\n",
    "for pos in range(0, len(predictions)):\n",
    "    print(f'{predictions[pos]:<{25}}  {y_test[pos]:<{15}}')"
   ]
  },
  {
   "cell_type": "code",
   "execution_count": 10,
   "metadata": {},
   "outputs": [
    {
     "data": {
      "image/png": "[encoded data removed]",
      "text/plain": [
       "<Figure size 432x288 with 1 Axes>"
      ]
     },
     "metadata": {
      "needs_background": "light"
     },
     "output_type": "display_data"
    }
   ],
   "source": [
    "# Training data VS Regression line\n",
    "\n",
    "plt.scatter(X_train, y_train, color='blue')\n",
    "plt.plot(X_train, linear_regression.predict(X_train), color='red')\n",
    "plt.title('Years VS Salary')\n",
    "plt.xlabel('Years of Experience')\n",
    "plt.ylabel('Salary')\n",
    "plt.show()"
   ]
  },
  {
   "cell_type": "code",
   "execution_count": 11,
   "metadata": {},
   "outputs": [
    {
     "data": {
      "image/png": "[encoded data removed]",
      "text/plain": [
       "<Figure size 432x288 with 1 Axes>"
      ]
     },
     "metadata": {
      "needs_background": "light"
     },
     "output_type": "display_data"
    }
   ],
   "source": [
    "# Test data VS Regression line\n",
    "# Regression line is drawn using predicted values for test set\n",
    "\n",
    "plt.scatter(X_test, y_test, color='blue')\n",
    "plt.plot(X_train, linear_regression.predict(X_train), color='red')\n",
    "plt.title('Years VS Salary')\n",
    "plt.xlabel('Years of Experience')\n",
    "plt.ylabel('Salary')\n",
    "plt.show()"
   ]
  },
  {
   "cell_type": "code",
   "execution_count": 17,
   "metadata": {},
   "outputs": [
    {
     "name": "stdout",
     "output_type": "stream",
     "text": [
      "The model performance for training set\n",
      "--------------------------------------\n",
      "RMSE is 5205.982110155719\n",
      "R2 score is 0.9645401573418146\n",
      "\n",
      "\n",
      "The model performance for testing set\n",
      "--------------------------------------\n",
      "RMSE is 7059.04362190151\n",
      "R2 score is 0.9024461774180497\n"
     ]
    }
   ],
   "source": [
    "#import library\n",
    "\n",
    "from sklearn.metrics import mean_squared_error,r2_score\n",
    "\n",
    "# model evaluation for training set\n",
    "\n",
    "y_train_predict = linear_regression.predict(X_train)\n",
    "rmse = (np.sqrt(mean_squared_error(y_train, y_train_predict)))\n",
    "r2 = r2_score(y_train, y_train_predict)\n",
    "\n",
    "print(\"The model performance for training set\")\n",
    "print(\"--------------------------------------\")\n",
    "print('RMSE is {}'.format(rmse))\n",
    "print('R2 score is {}'.format(r2))\n",
    "print(\"\\n\")\n",
    "\n",
    "# model evaluation for testing set\n",
    "\n",
    "y_test_predict = linear_regression.predict(X_test)\n",
    "rmse = (np.sqrt(mean_squared_error(y_test, y_test_predict)))\n",
    "r2 = r2_score(y_test, y_test_predict)\n",
    "\n",
    "print(\"The model performance for testing set\")\n",
    "print(\"--------------------------------------\")\n",
    "print('RMSE is {}'.format(rmse))\n",
    "print('R2 score is {}'.format(r2))"
   ]
  },
  {
   "cell_type": "code",
   "execution_count": null,
   "metadata": {},
   "outputs": [],
   "source": []
  },
  {
   "cell_type": "code",
   "execution_count": null,
   "metadata": {},
   "outputs": [],
   "source": []
  },
  {
   "cell_type": "code",
   "execution_count": null,
   "metadata": {},
   "outputs": [],
   "source": []
  },
  {
   "cell_type": "code",
   "execution_count": null,
   "metadata": {},
   "outputs": [],
   "source": []
  },
  {
   "cell_type": "code",
   "execution_count": 132,
   "metadata": {},
   "outputs": [
    {
     "name": "stdout",
     "output_type": "stream",
     "text": [
      "Experience Salary     d=Xi-Xm               e=Yi-Ym             d*e                  e*e\n",
      "------------------------------------------------------------------------------------------------\n",
      "[1.1]      39343.0    [-3.73333333]        -31714.33333333333   [118400.17777778]    [13.93777778]       \n",
      "[2.2]      39891.0    [-2.63333333]        -31166.33333333333   [82071.34444444]     [6.93444444]        \n",
      "[5.1]      66029.0    [0.26666667]         -5028.3333333333285  [-1340.88888889]     [0.07111111]        \n",
      "[2.9]      56642.0    [-1.93333333]        -14415.333333333328  [27869.64444444]     [3.73777778]        \n",
      "[4.1]      57081.0    [-0.73333333]        -13976.333333333328  [10249.31111111]     [0.53777778]        \n",
      "[4.]       55794.0    [-0.83333333]        -15263.333333333328  [12719.44444444]     [0.69444444]        \n",
      "[7.9]      101302.0   [3.06666667]         30244.66666666667    [92750.31111111]     [9.40444444]        \n",
      "[1.3]      46205.0    [-3.53333333]        -24852.33333333333   [87811.57777778]     [12.48444444]       \n",
      "[1.5]      37731.0    [-3.33333333]        -33326.33333333333   [111087.77777778]    [11.11111111]       \n",
      "[9.]       105582.0   [4.16666667]         34524.66666666667    [143852.77777778]    [17.36111111]       \n",
      "[2.]       43525.0    [-2.83333333]        -27532.33333333333   [78008.27777778]     [8.02777778]        \n",
      "[7.1]      98273.0    [2.26666667]         27215.66666666667    [61688.84444444]     [5.13777778]        \n",
      "[9.5]      116969.0   [4.66666667]         45911.66666666667    [214254.44444444]    [21.77777778]       \n",
      "[5.9]      81363.0    [1.06666667]         10305.666666666672   [10992.71111111]     [1.13777778]        \n",
      "[10.5]     121872.0   [5.66666667]         50814.66666666667    [287949.77777778]    [32.11111111]       \n",
      "[6.8]      91738.0    [1.96666667]         20680.66666666667    [40671.97777778]     [3.86777778]        \n",
      "[3.2]      54445.0    [-1.63333333]        -16612.33333333333   [27133.47777778]     [2.66777778]        \n",
      "[3.9]      63218.0    [-0.93333333]        -7839.3333333333285  [7316.71111111]      [0.87111111]        \n",
      "[4.5]      61111.0    [-0.33333333]        -9946.333333333328   [3315.44444444]      [0.11111111]        \n",
      "[6.]       93940.0    [1.16666667]         22882.66666666667    [26696.44444444]     [1.36111111]        \n",
      "[3.]       60150.0    [-1.83333333]        -10907.333333333328  [19996.77777778]     [3.36111111]        \n"
     ]
    }
   ],
   "source": [
    "# For finding slope for new regression line\n",
    "\n",
    "Xm = np.mean(X_train)\n",
    "Ym = np.mean(y_train)\n",
    "sum1 = 0\n",
    "sum2 = 0\n",
    "print('Experience Salary     d=Xi-Xm               e=Yi-Ym             d*e                  e*e')\n",
    "print('------------------------------------------------------------------------------------------------')\n",
    "for pos in range(0, len(X_train)):\n",
    "    d = (X_train[pos] - Xm)\n",
    "    e = (y_train[pos] - Ym)\n",
    "    sum1 = sum1 + d*e\n",
    "    sum2 = sum2 = d*d\n",
    "    print(f'{str(X_train[pos]):{10}} {str(y_train[pos]):{10}} {str(X_train[pos]-Xm):{20}} {str(y_train[pos]-Ym):20} {str(d*e):{20}} {str(d*d):{20}}')"
   ]
  }
 ],
 "metadata": {
  "kernelspec": {
   "display_name": "Python 3",
   "language": "python",
   "name": "python3"
  },
  "language_info": {
   "codemirror_mode": {
    "name": "ipython",
    "version": 3
   },
   "file_extension": ".py",
   "mimetype": "text/x-python",
   "name": "python",
   "nbconvert_exporter": "python",
   "pygments_lexer": "ipython3",
   "version": "3.7.4"
  }
 },
 "nbformat": 4,
 "nbformat_minor": 2
}
