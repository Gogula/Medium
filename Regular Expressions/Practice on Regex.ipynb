{
 "cells": [
  {
   "cell_type": "code",
   "execution_count": 1,
   "metadata": {},
   "outputs": [
    {
     "name": "stdout",
     "output_type": "stream",
     "text": [
      "<re.Match object; span=(0, 7), match='Regular'>\n"
     ]
    }
   ],
   "source": [
    "# match() method returns match object\n",
    "# Importing libraries\n",
    "import re\n",
    "# Document\n",
    "text = 'Regular Expressions are fun'\n",
    "# Pattern to search\n",
    "pattern = 'Regular'\n",
    "# Instantiating match() method\n",
    "match = re.match(pattern, text)\n",
    "print(match)"
   ]
  },
  {
   "cell_type": "code",
   "execution_count": 2,
   "metadata": {},
   "outputs": [
    {
     "name": "stdout",
     "output_type": "stream",
     "text": [
      "None\n"
     ]
    }
   ],
   "source": [
    "# Pattern to search\n",
    "pattern = 'Expressions'\n",
    "# Instantiating match() method\n",
    "match = re.match(pattern, text)\n",
    "print(match)"
   ]
  },
  {
   "cell_type": "code",
   "execution_count": 3,
   "metadata": {},
   "outputs": [
    {
     "name": "stdout",
     "output_type": "stream",
     "text": [
      "<re.Match object; span=(27, 35), match='comments'>\n"
     ]
    }
   ],
   "source": [
    "# search() method returns match object\n",
    "# Importing libraries\n",
    "import re\n",
    "# Document\n",
    "text = 'Code never lies, sometimes comments do'\n",
    "# Pattern to search\n",
    "pattern = 'comments'\n",
    "# Instantiating match() method\n",
    "match = re.search(pattern, text)\n",
    "print(match)"
   ]
  },
  {
   "cell_type": "code",
   "execution_count": 4,
   "metadata": {},
   "outputs": [
    {
     "name": "stdout",
     "output_type": "stream",
     "text": [
      "Match found is comments.\n",
      "Match if found at (27, 35) position.\n",
      "Start position is 27 and End position is 35.\n"
     ]
    }
   ],
   "source": [
    "# Importing libraries\n",
    "import re\n",
    "# Document\n",
    "text = 'Code never lies, sometimes comments do.'\n",
    "# Pattern to search\n",
    "pattern = 'comments'\n",
    "# Instantiating match() method\n",
    "match = re.search(pattern, text)\n",
    "print(f'Match found is {match.group()}.\\nMatch if found at {match.span()} position.\\nStart position is {match.start()} and End position is {match.end()}.')"
   ]
  },
  {
   "cell_type": "code",
   "execution_count": 5,
   "metadata": {},
   "outputs": [
    {
     "name": "stdout",
     "output_type": "stream",
     "text": [
      "A match bycodegarage@gmail.com is found at (8, 30) position.\n"
     ]
    }
   ],
   "source": [
    "# Importing all libraries\n",
    "import re\n",
    "# Document\n",
    "text = 'Contact bycodegarage@gmail.com, if you\\'re interested to write a blog.'\n",
    "# pattern for mail id\n",
    "# Since mail id comprises of bycodegarage - 12 letters\n",
    "# And gmail - 5 letters\n",
    "# The Regular Expression is as follows\n",
    "pattern = r'\\w\\w\\w\\w\\w\\w\\w\\w\\w\\w\\w\\w@\\w\\w\\w\\w\\w.\\w\\w\\w'\n",
    "match = re.search(pattern, text)\n",
    "print(f'A match {match.group()} is found at {match.span()} position.')"
   ]
  },
  {
   "cell_type": "code",
   "execution_count": 6,
   "metadata": {},
   "outputs": [
    {
     "name": "stdout",
     "output_type": "stream",
     "text": [
      "A match bycodegarage@gmail.com is found at (8, 30) position.\n"
     ]
    }
   ],
   "source": [
    "# pattern for mail id using Quantifiers\n",
    "# Since we know the exact number of characters\n",
    "# we are using the exact count value for identifiers\n",
    "pattern = r'\\w{12}@\\w{5}.\\w{3}'\n",
    "match = re.search(pattern, text)\n",
    "print(f'A match {match.group()} is found at {match.span()} position.')"
   ]
  },
  {
   "cell_type": "code",
   "execution_count": 7,
   "metadata": {},
   "outputs": [
    {
     "name": "stdout",
     "output_type": "stream",
     "text": [
      "Telephone Number 0440-232600 is found at (18, 29) position.\n"
     ]
    }
   ],
   "source": [
    "# Document\n",
    "text = 'Hey Mikkel..!! Is 0440-232600 your telephone number.'\n",
    "# Pattern for telephone number\n",
    "# + is used for one or more occurrences\n",
    "pattern = r'\\d+-\\d+'\n",
    "match = re.search(pattern, text)\n",
    "print(f'Telephone Number {match.group()} is found at {match.span()} position.')"
   ]
  },
  {
   "cell_type": "code",
   "execution_count": 8,
   "metadata": {},
   "outputs": [
    {
     "name": "stdout",
     "output_type": "stream",
     "text": [
      "STD code of a Telephone Number 0440 is found at (18, 29) position.\n"
     ]
    }
   ],
   "source": [
    "# Document\n",
    "text = 'Hey Mikkel..!! Is 0440-232600 your telephone number.'\n",
    "# pattern for telephone number\n",
    "# () - used for grouping particular characters\n",
    "# Access the groups using index number. (Starts from 1)\n",
    "pattern = r'(\\d+)-(\\d+)'\n",
    "match = re.search(pattern, text)\n",
    "print(f'STD code of a Telephone Number {match.group(1)} is found at {match.span()} position.')"
   ]
  },
  {
   "cell_type": "code",
   "execution_count": 9,
   "metadata": {},
   "outputs": [
    {
     "name": "stdout",
     "output_type": "stream",
     "text": [
      "Pattern using Caret Anchor\n",
      "['Door-No:1-18']\n",
      "Pattern using Dollar Anchor\n",
      "Phone Number 9998881234 is found at (106, 116)\n"
     ]
    }
   ],
   "source": [
    "# Document\n",
    "text = 'Door-No:1-18 is my new address. And Door-No:1-19 is mitchell\\'s address. If you have any issues ping me at 9998881234'\n",
    "# pattern to match at the beginning of the statement\n",
    "pattern1 = r'^\\w+-\\w+:\\d-\\d+'\n",
    "# pattern to match at the end of the statement\n",
    "pattern2 = r'\\d+$'\n",
    "match1 = re.findall(pattern1, text)\n",
    "match2 = re.search(pattern2, text)\n",
    "print('Pattern using Caret Anchor')\n",
    "print(match1)\n",
    "print('Pattern using Dollar Anchor')\n",
    "print(f'Phone Number {match2.group()} is found at {match2.span()}')"
   ]
  },
  {
   "cell_type": "code",
   "execution_count": 10,
   "metadata": {},
   "outputs": [
    {
     "name": "stdout",
     "output_type": "stream",
     "text": [
      "Matched word is Chocolates\n",
      "Matched word is Dark\n"
     ]
    }
   ],
   "source": [
    "# Document\n",
    "text1 = 'Chocolates are awesome.'\n",
    "text2 = 'Watched Dark web series yesterday. Spellbound!'\n",
    "# pattern for matching Chocolates and Dark using pipe\n",
    "pattern = r'(Chocolates|Dark)'\n",
    "match1 = re.search(pattern, text1)\n",
    "match2 = re.search(pattern, text2)\n",
    "print(f'Matched word is {match1.group()}')\n",
    "print(f'Matched word is {match2.group()}')"
   ]
  },
  {
   "cell_type": "code",
   "execution_count": 11,
   "metadata": {},
   "outputs": [
    {
     "name": "stdout",
     "output_type": "stream",
     "text": [
      "---------- Match 1 -----------\n",
      "['the']\n",
      "---------- Match 2 -----------\n",
      "['he', 'the']\n",
      "---------- Match 3 -----------\n",
      "764807\n",
      "---------- Match 4 -----------\n",
      " is an even number.\n"
     ]
    }
   ],
   "source": [
    "# Document\n",
    "# ? quantifier is for one or no occurrence\n",
    "# [^ ] excludes the defined characters\n",
    "text1 = 'He parked the car in basement.'\n",
    "text2 = 'he parked the car in basement.'\n",
    "text3 = 'My id number is 764807.'\n",
    "text4 = '2 is an even number.'\n",
    "# Pattern using square braces\n",
    "pattern1 = r'[Tt]?he'\n",
    "pattern2 = r'[0-9]{6}'\n",
    "pattern3 = r'[^\\d]+'\n",
    "match1 = re.findall(pattern1, text1)\n",
    "match2 = re.findall(pattern1, text2)\n",
    "match3 = re.search(pattern2, text3)\n",
    "match4 = re.search(pattern3, text4)\n",
    "print('---------- Match 1 -----------')\n",
    "print(match1)\n",
    "print('---------- Match 2 -----------')\n",
    "print(match2)\n",
    "print('---------- Match 3 -----------')\n",
    "print(match3.group())\n",
    "print('---------- Match 4 -----------')\n",
    "print(match4.group())"
   ]
  },
  {
   "cell_type": "code",
   "execution_count": 12,
   "metadata": {},
   "outputs": [
    {
     "name": "stdout",
     "output_type": "stream",
     "text": [
      "------------- Match 1 --------------\n",
      "The\n",
      "------------- Match 2 --------------\n",
      "the\n",
      "------------- Match 3 --------------\n",
      " mouse\n",
      "------------- Match 4 --------------\n",
      " mouse\n"
     ]
    }
   ],
   "source": [
    "# Document\n",
    "text = 'The mouse and the cat are fighting. mouse i jerry.'\n",
    "# Patterns using Lookaround groups\n",
    "pattern1 = r'(T|t)he(?=\\smouse)'\n",
    "pattern2 = r'(T|t)he(?!\\smouse)'\n",
    "pattern3 = r'(?<=(T|t)he)\\s(mouse|cat)'\n",
    "pattern4 = r'(?<!(T|t)he)\\s(mouse|cat)'\n",
    "match1 = re.search(pattern1, text)\n",
    "match2 = re.search(pattern2, text)\n",
    "match3 = re.search(pattern3, text)\n",
    "match4 = re.search(pattern4, text)\n",
    "print('------------- Match 1 --------------')\n",
    "print(match1.group())\n",
    "print('------------- Match 2 --------------')\n",
    "print(match2.group())\n",
    "print('------------- Match 3 --------------')\n",
    "print(match3.group())\n",
    "print('------------- Match 4 --------------')\n",
    "print(match4.group())"
   ]
  }
 ],
 "metadata": {
  "kernelspec": {
   "display_name": "Python 3",
   "language": "python",
   "name": "python3"
  },
  "language_info": {
   "codemirror_mode": {
    "name": "ipython",
    "version": 3
   },
   "file_extension": ".py",
   "mimetype": "text/x-python",
   "name": "python",
   "nbconvert_exporter": "python",
   "pygments_lexer": "ipython3",
   "version": "3.7.4"
  }
 },
 "nbformat": 4,
 "nbformat_minor": 2
}
