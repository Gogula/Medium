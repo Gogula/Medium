{
 "cells": [
  {
   "cell_type": "code",
   "execution_count": 1,
   "metadata": {},
   "outputs": [],
   "source": [
    "# Importing Libraries\n",
    "\n",
    "import re"
   ]
  },
  {
   "cell_type": "code",
   "execution_count": 2,
   "metadata": {},
   "outputs": [],
   "source": [
    "# Opening text file\n",
    "\n",
    "file = open('samplefile','r')"
   ]
  },
  {
   "cell_type": "code",
   "execution_count": 3,
   "metadata": {},
   "outputs": [],
   "source": [
    "# Reading data\n",
    "\n",
    "data = file.readlines()"
   ]
  },
  {
   "cell_type": "code",
   "execution_count": 4,
   "metadata": {},
   "outputs": [],
   "source": [
    "# Closing the file\n",
    "\n",
    "file.close()"
   ]
  },
  {
   "cell_type": "code",
   "execution_count": 5,
   "metadata": {},
   "outputs": [],
   "source": [
    "# Defining pattern for mail id\n",
    "\n",
    "pattern = r'\\w+@\\w+.\\w+'"
   ]
  },
  {
   "cell_type": "code",
   "execution_count": 6,
   "metadata": {},
   "outputs": [],
   "source": [
    "# List to store matched text\n",
    "\n",
    "ids = []\n",
    "\n",
    "for line in data:\n",
    "    match = re.search(pattern, line)\n",
    "    ids.append(match.group())"
   ]
  },
  {
   "cell_type": "code",
   "execution_count": 7,
   "metadata": {},
   "outputs": [
    {
     "name": "stdout",
     "output_type": "stream",
     "text": [
      "98@gmail.com\n",
      "micheal@gmail.com\n",
      "joelk@gmail.com\n",
      "vijay@gmail.com\n",
      "mitchells@gamil.com\n"
     ]
    }
   ],
   "source": [
    "# List of mail ids\n",
    "\n",
    "for mail in ids:\n",
    "    print(mail)"
   ]
  },
  {
   "cell_type": "code",
   "execution_count": 8,
   "metadata": {},
   "outputs": [
    {
     "name": "stdout",
     "output_type": "stream",
     "text": [
      "Text file created\n"
     ]
    }
   ],
   "source": [
    "# Save those mail ids to a text file\n",
    "\n",
    "with open('mails.txt', 'w') as f:\n",
    "    for mail in ids:\n",
    "        f.write(\"%s\\n\" % mail)\n",
    "    print('Text file created')"
   ]
  }
 ],
 "metadata": {
  "kernelspec": {
   "display_name": "Python 3",
   "language": "python",
   "name": "python3"
  },
  "language_info": {
   "codemirror_mode": {
    "name": "ipython",
    "version": 3
   },
   "file_extension": ".py",
   "mimetype": "text/x-python",
   "name": "python",
   "nbconvert_exporter": "python",
   "pygments_lexer": "ipython3",
   "version": "3.7.4"
  }
 },
 "nbformat": 4,
 "nbformat_minor": 2
}
